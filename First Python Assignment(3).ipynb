{
 "cells": [
  {
   "cell_type": "markdown",
   "id": "5414c706-53e6-47a2-816b-b233995aba0e",
   "metadata": {},
   "source": [
    " **Q1- Explain the key features of Python that make it a popular choice for programming.**\n",
    "\n",
    "The key features of Python that contribute to its popularity are as follows:-\n",
    "\n",
    "a) Easy to Learn and Readable\n",
    "\n",
    "   Python’s syntax is designed to be simple and intuitive, making it an ideal language for beginners and experienced   developers. Its readability enables developers to write code that is easy to understand and maintain.\n",
    "\n",
    "b) Interpreted Language\n",
    "\n",
    "Python code is interpreted rather than compiled, making it easier to write and test code quickly. This also enables developers to run small scripts or one-liners directly without the need for a separate compilation step.\n",
    "\n",
    "c) Object-Oriented Programming\n",
    "\n",
    " Python supports object-oriented programming (OOP) concepts, such as classes, encapsulation, and inheritance, allowing developers to write reusable and modular code.\n",
    "\n",
    "d) Extensive Libraries and Frameworks\n",
    "\n",
    "Python has a vast collection of libraries and frameworks, including NumPy, pandas, and scikit-learn for data science, Flask and Django for web development, and PyQt for GUI development, among many others. This ecosystem makes it easy to find the right tools for a particular task or project.\n",
    "\n",
    "e) Large Community Support\n",
    "\n",
    "With one of the biggest communities on StackOverflow and Meetup, Python has gained popularity over the years. If we need any kind of help related to Python, the huge community is always there to answer our queries.\n",
    "\n",
    "f) Platform Independent\n",
    "\n",
    "Platform independence is yet another amazing feature of Python. In other words, it means that if we write a program in Python, it can run on a variety of platforms, for instance, Windows, Mac, Linux, etc. We do not have to write separate Python code for different platforms.\n",
    "\n",
    "g) Graphical User Interface (GUI) Support\n",
    "\n",
    "Yet another interesting feature of Python is the fact that we can use it to create GUI (Graphical User Interfaces). We can use Tkinter, PyQt, wxPython, or Pyside for doing the same. Python also features a large number of GUI frameworks available for it and various other cross-platform solutions. Python binds to platform-specific technologies.\n",
    "\n",
    "h) High Demand in Industry:\n",
    "\n",
    "Data Science and AI: Python is the language of choice for many data scientists and AI researchers due to its powerful libraries for data manipulation (like Pandas) and machine learning (like TensorFlow and PyTorch).\n",
    "\n",
    " Web Development: Frameworks like Django and Flask make Python a popular choice for web development.\n",
    "\n",
    "Automation and Scripting: Python’s simplicity and flexibility make it an excellent tool for automating repetitive tasks  and writing scripts.\n"
   ]
  },
  {
   "cell_type": "markdown",
   "id": "0d4889dc-ebd0-4ca9-84e4-fb383f5b9542",
   "metadata": {},
   "source": [
    "  \n",
    "**Q2 Describe the role of predefined keywords in Python and provide examples of how they are used in a program.**\n",
    " \n",
    " **Ans.** Predefined keywords, also known as reserved words, are an integral part of Python's syntax. They have specific meanings and roles within the language and cannot be used as identifiers (e.g. variable names, function names). These keywords define the structure of Python programs and control the flow of execution. They are essential for writing Python code that is syntactically correct and functionally meaningful.\n",
    " \n",
    "Here are the Key Roles of Predefined Keywords in Python:\n",
    "\n",
    "\n",
    " \n",
    "**A. Control Flow:** \n",
    "\n",
    "Keywords like **if, else, elif, for, while** and **break** control the flow of the program, determining how and when different parts of the code are executed.\n",
    "\n",
    "**if**-It will execute a code block if the condition is 'True'.\n",
    "\n",
    "**elif**-It is the short form of 'else if'. It will put another alternative condition for checking if the 'if' condition is 'False'.\n",
    "\n",
    "**else**-It will execute a code block if none of the conditions are 'True'.\n",
    "\n",
    "**for**-It iterates over the elements of a specified sequence.\n",
    "\n",
    "**while**-It will execute a code block as long as the condition is 'True'.\n",
    "\n",
    "**break**-It is used for terminating the loop before completion.\n",
    "\n",
    "\n",
    "\n",
    "**B. Function Definition and Management:**\n",
    "\n",
    "Keywords like **def, return, yield** and **lambda** are used for defining functions, returning values, and creating\n",
    "anonymous functions.\n",
    "\n",
    "**def**-It defines a function.\n",
    "\n",
    "**lambda**- It creates an anonymous function.\n",
    "\n",
    "**return**-It will exit a function and may also return a value.\n",
    "\n",
    "**yield**-It will stop the execution of a function and will return a value to the caller while the state of the function remains constant.\n",
    "\n",
    "\n",
    "\n",
    "**C. Object-Oriented Programming:**\n",
    "\n",
    "Keywords such as **class, self, init, inherit** and **super** are used in defining classes, handling inheritance, and creating instances of classes.\n",
    "\n",
    "ramming:\n",
    "\n",
    "**class**-To define a class\n",
    "\n",
    "**self**-we can work with the state of the instance members of the class and modify them as needed\n",
    "\n",
    "**init**- is a special method known as the constructor. It is automatically called when a new instance (object) of a class is created. The \n",
    "**init** method allows we to initialize the attributes (variables) of an object.\n",
    "\n",
    "\n",
    "**inherit**-allows us to define a class that inherits all the methods and properties from another class.\n",
    "\n",
    "**super**-it allows one class to access the methods and properties of another class in the same hierarchy.\n",
    "\n",
    "\n",
    "\n",
    "**D. Data Type Definition:**\n",
    "\n",
    " Keywords like **int, float, str, list, tuple, dict** and **set** are used to define and work with different data types.\n",
    " \n",
    " \n",
    "**int**- is used to convert the specified string or number into an integer value.\n",
    "\n",
    "**float**- is used to return a floating-point number from a number or a string representation of a numeric value.\n",
    "\n",
    "**list**- is used to store multiple items in a single variable.\n",
    "\n",
    "**tuple**- is used to store multiple items in a single variable.\n",
    "\n",
    "**dict**- is used to store the attributes of the object.\n",
    "\n",
    "**set**- used to store several items in a single variable.\n",
    "\n",
    "\n",
    "\n",
    "**E. Exception Handling:**\n",
    "\n",
    "Keywords like **try, except, finally, raise** and **assert** are used for managing errors and exceptions, allowing the program to handle unexpected situations gracefully.\n",
    "\n",
    "**try**-lets us test a block of code for error.\n",
    "\n",
    "**except**-lets us handle the error.\n",
    "\n",
    "**finally**-is used to execute code regardless of whether an exception was raised or not\n",
    "\n",
    "**raise**-used to raise exceptions or errors\n",
    "\n",
    "**assert**-is a built-in construct that allows us to test assumptions about the code.\n",
    " \n",
    "\n",
    "\n",
    "**F. Logical Operations:** \n",
    "\n",
    "Keywords such as **and, or, not, in** and **is** are used to perform logical operations and comparisons.\n",
    "\n",
    " **and**-it return True if both statement are true.\n",
    " \n",
    " **or**-Returns True if one of the statements is true.\n",
    " \n",
    " **not**-Reverse the result, returns False if the result is true. \n",
    " \n",
    " **in**-It checks that whether a specified value is present in the given sequence.\n",
    " \n",
    " **is**- It compares the identity of objects.\n",
    "   \n",
    "\n",
    "\n",
    "**G. Variable Scope and Memory Management:**\n",
    "\n",
    " Keywords like **global, nonlocal, del** and **pass** helps in managing variable scope, memory, and the control flow in Python programs.\n",
    "\n",
    " **global**-It is used for declaring a variable with a global scope.\n",
    " \n",
    "**nonlocal**-It is used for declaring a variable with a scope of the nearest function just outside the current one.\n",
    "\n",
    " **del**- It will delete a variable from a collection.\n",
    " \n",
    " **pass**- is used as a placeholder for future code.\n",
    "\n",
    "\n",
    "**H. Module Management:**\n",
    " \n",
    " Keywords like **import, from, as** are used to import modules and manage namespaces.\n",
    "\n",
    "**import**-It will import a whole module.\n",
    "\n",
    "**from**-It will import specific symbols from a module.\n",
    "\n",
    "**as**-It will alias the imported symbols or modules\n",
    "\n",
    "\n",
    " \n",
    "\n",
    "\n"
   ]
  },
  {
   "cell_type": "markdown",
   "id": "f66ed82c-6231-45c4-8a27-0a038a900ea2",
   "metadata": {},
   "source": [
    "**Use Cases:**"
   ]
  },
  {
   "cell_type": "markdown",
   "id": "e954992c-edfd-402a-9a65-bf23181cb385",
   "metadata": {},
   "source": [
    "* Example of **and**, **or**, **not**, **True**, **False** keywords."
   ]
  },
  {
   "cell_type": "code",
   "execution_count": 2,
   "id": "17218145-b2f2-46fd-9fff-7bf0b2da4eb3",
   "metadata": {},
   "outputs": [
    {
     "name": "stdout",
     "output_type": "stream",
     "text": [
      "True\n",
      "True\n",
      "True\n"
     ]
    }
   ],
   "source": [
    "print(True and True)\n",
    "print(True or False)\n",
    "print(not False)"
   ]
  },
  {
   "cell_type": "markdown",
   "id": "5e3d1625-c848-482c-8f2a-175ea7237075",
   "metadata": {},
   "source": [
    "* Example of a **break**, **continue** keywords **and** identifier."
   ]
  },
  {
   "cell_type": "code",
   "execution_count": 10,
   "id": "c00b7bc3-7581-40f0-91bb-06d33a0c5b21",
   "metadata": {},
   "outputs": [
    {
     "name": "stdout",
     "output_type": "stream",
     "text": [
      "1\n",
      "2\n",
      "3\n",
      "4\n",
      "5\n"
     ]
    }
   ],
   "source": [
    "for i in range(1, 14):\n",
    "    print(i)\n",
    "    if i < 5:  \n",
    "        continue\n",
    "    else:  \n",
    "        break"
   ]
  },
  {
   "cell_type": "markdown",
   "id": "eb52a573-0a71-48ad-ab5c-46e50d0bd63d",
   "metadata": {},
   "source": [
    "* Example of **for**, **in**, **if**, **elif** and **else** keywords."
   ]
  },
  {
   "cell_type": "code",
   "execution_count": 11,
   "id": "c79a6611-3df5-42b8-8121-07e8d2ba9c7b",
   "metadata": {},
   "outputs": [
    {
     "name": "stdout",
     "output_type": "stream",
     "text": [
      "One\n",
      "Two\n",
      "else block execute\n",
      "else block execute\n"
     ]
    }
   ],
   "source": [
    "for t in range(1, 5):\n",
    "    if t == 1:\n",
    "        print('One')\n",
    "    elif t == 2:\n",
    "        print('Two')\n",
    "    else:\n",
    "        print('else block execute')"
   ]
  },
  {
   "cell_type": "markdown",
   "id": "c15d7f9f-847a-428b-880a-f8297929a771",
   "metadata": {},
   "source": [
    "* Example of **return** keyword."
   ]
  },
  {
   "cell_type": "code",
   "execution_count": 12,
   "id": "b1a20662-001f-4b1a-92d0-a98506237dea",
   "metadata": {},
   "outputs": [
    {
     "name": "stdout",
     "output_type": "stream",
     "text": [
      "5\n"
     ]
    }
   ],
   "source": [
    "# define a function\n",
    "def fun():\n",
    "    a = 5\n",
    "    return a\n",
    "t = fun()\n",
    "print(t)\n",
    "  "
   ]
  },
  {
   "cell_type": "markdown",
   "id": "ad60880e-2862-4db2-bef2-533abd2ef151",
   "metadata": {},
   "source": [
    "* Example of **def** , **if** and **else** keywords."
   ]
  },
  {
   "cell_type": "code",
   "execution_count": 15,
   "id": "affeb963-4dfa-4c02-b300-bf6a057f7fc9",
   "metadata": {},
   "outputs": [
    {
     "name": "stdout",
     "output_type": "stream",
     "text": [
      "given number is even\n"
     ]
    }
   ],
   "source": [
    "def gfg():\n",
    "    i=20\n",
    "    if(i % 2 == 0):\n",
    "        print(\"given number is even\")\n",
    "    else:\n",
    "        print(\"given number is odd\")    \n",
    "    \n",
    "   \n",
    "gfg()"
   ]
  },
  {
   "cell_type": "markdown",
   "id": "3151f9cf-7958-4506-8e46-8427d42a1b8d",
   "metadata": {},
   "source": [
    "* Example of a **lambda** keyword."
   ]
  },
  {
   "cell_type": "code",
   "execution_count": 16,
   "id": "ea30323d-d13b-44ee-95f4-903df62065ce",
   "metadata": {},
   "outputs": [
    {
     "name": "stdout",
     "output_type": "stream",
     "text": [
      "2\n",
      "3\n",
      "4\n",
      "5\n",
      "6\n"
     ]
    }
   ],
   "source": [
    "a = lambda b: b+1 \n",
    "for i in range(1, 6):\n",
    "    print(a(i))\n",
    "    "
   ]
  },
  {
   "cell_type": "markdown",
   "id": "219cf04c-ee9b-4d29-9e06-460f5ee900de",
   "metadata": {},
   "source": [
    "* Example of **import** keyword."
   ]
  },
  {
   "cell_type": "code",
   "execution_count": 17,
   "id": "96db38ff-d87e-4401-8040-ea2c64dfb688",
   "metadata": {},
   "outputs": [
    {
     "name": "stdout",
     "output_type": "stream",
     "text": [
      "factorial of 5 is : 120\n"
     ]
    }
   ],
   "source": [
    "import math\n",
    "print(\"factorial of 5 is :\", math.factorial(5))"
   ]
  },
  {
   "cell_type": "markdown",
   "id": "5f686d1a-e5f5-4503-8bc1-bbce5161aae3",
   "metadata": {},
   "source": [
    "\n",
    "\n",
    "**Q3- Compare and contrast mutable and immutable objects in Python with examples**\n",
    "\n",
    "In Python, objects can be either mutable or immutable. This distinction is crucial because it affects how objects can be changed and how they behave in certain situations.\n",
    "\n",
    " **I. Mutable Objects:**\n",
    "\n",
    "Mutable objects are objects that can be changed after they are created. In Python, mutable objects are objects that can be modified by changing their attributes or elements. Here are some examples of mutable objects in Python:\n",
    "\n",
    "\n",
    "**List ([])**\n",
    "\n",
    "**Dictionary ({})**\n",
    "\n",
    "**Set (set())**\n",
    "\n",
    "**User-defined objects (e.g., instances of a class)**\n",
    "\n",
    "\n",
    "**a. Lists:** A list is a collection of items that can be changed. We can **add**, **remove** or **modify** elements in a list.\n"
   ]
  },
  {
   "cell_type": "code",
   "execution_count": null,
   "id": "237df0e7-ec17-486e-81d4-485b531ac744",
   "metadata": {},
   "outputs": [
    {
     "name": "stdout",
     "output_type": "stream",
     "text": [
      "[0, 1, 2, 3]\n"
     ]
    }
   ],
   "source": [
    "list = [0, 1, 2]\n",
    "list.append(3)\n",
    "print(list)"
   ]
  },
  {
   "cell_type": "markdown",
   "id": "d68ac377-235c-4274-885a-2e0ab450d5cb",
   "metadata": {},
   "source": [
    "b.**Dictionaries** : A dictionary is a collection of key-value pairs that can be changed. We can add or modify key-value pairs in a dictionary."
   ]
  },
  {
   "cell_type": "code",
   "execution_count": 1,
   "id": "0e26f814-fb38-4fe3-a11e-c969af17c344",
   "metadata": {},
   "outputs": [
    {
     "name": "stdout",
     "output_type": "stream",
     "text": [
      "{'a': 1, 'b': 2, 'c': 3}\n"
     ]
    }
   ],
   "source": [
    "dict = {'a': 1, 'b': 2}\n",
    "dict['c'] = 3\n",
    "print(dict)"
   ]
  },
  {
   "cell_type": "markdown",
   "id": "ecfb2c8b-c9f5-4631-9b16-056c9fe72246",
   "metadata": {},
   "source": [
    "**c. Sets:** A set is a collection of unique items that can be changed. We can **add** or **remove** items from a set."
   ]
  },
  {
   "cell_type": "code",
   "execution_count": 2,
   "id": "08c01dd7-091c-4471-82d3-b3049b334d0a",
   "metadata": {},
   "outputs": [
    {
     "name": "stdout",
     "output_type": "stream",
     "text": [
      "{0, 1, 2, 3, 4, 5}\n"
     ]
    }
   ],
   "source": [
    "set = {0, 1, 2, 3, 4}\n",
    "set.add(5)\n",
    "print(set) "
   ]
  },
  {
   "cell_type": "markdown",
   "id": "6581e855-668a-46a8-9600-787f24e8ac5f",
   "metadata": {},
   "source": [
    "**Characteristics of Mutable Objects:**\n",
    "\n",
    " a) Can be modified in place.\n",
    " \n",
    " b) Can be modified using indexing or slicing.\n",
    " \n",
    "\n",
    " c) Can be extended or shrunk dynamically.\n",
    "\n",
    " d) Can be changed after creation.\n",
    " "
   ]
  },
  {
   "cell_type": "markdown",
   "id": "4d119f51-0e97-46ad-8dad-ca5a71158c64",
   "metadata": {},
   "source": [
    " **II. Immutable Objects:**\n",
    "\n",
    "Immutable objects are objects that cannot be changed after they are created. In Python, immutable objects are objects that cannot be modified by changing their attributes or elements. Here are some examples of immutable objects in Python:\n",
    "\n",
    "* Integers(**int**)\n",
    "* Floats(**float**)\n",
    "* Strings(**str**)\n",
    "* Tuples(**tuple**)\n",
    "* Boolean(**bool**)\n",
    "\n",
    "\n"
   ]
  },
  {
   "cell_type": "markdown",
   "id": "a73cb30b-4169-4ec4-99ec-90df7861db3a",
   "metadata": {},
   "source": [
    "**a. Integers:** An integer is a numeric value that cannot be changed once it is created."
   ]
  },
  {
   "cell_type": "code",
   "execution_count": 5,
   "id": "e5a6b867-6ade-4ec8-ace8-56ef5f6082a4",
   "metadata": {},
   "outputs": [],
   "source": [
    "int = 5\n",
    "int = 10  # This will assign a new value to int, but it won't change the original value"
   ]
  },
  {
   "cell_type": "markdown",
   "id": "2897b9ee-7175-45b2-b1b7-f8aee3ab31dc",
   "metadata": {},
   "source": [
    "**b. Strings:** A string is a sequence of characters that cannot be changed. Once a string is created, its contents cannot be modified."
   ]
  },
  {
   "cell_type": "code",
   "execution_count": null,
   "id": "e5c73699-93c0-4836-88eb-ef34879b90a3",
   "metadata": {},
   "outputs": [],
   "source": [
    "string = 'hello'\n",
    "string[0] = 'H'  # This will raise error"
   ]
  },
  {
   "cell_type": "markdown",
   "id": "3bd2c156-c5e2-468c-a565-eedc9584a99d",
   "metadata": {},
   "source": [
    "**c. Tuples:** A tuple is a collection of items that cannot be changed once it is created. Unlike lists, tuples cannot be modified.\n"
   ]
  },
  {
   "cell_type": "code",
   "execution_count": null,
   "id": "dc4f9577-eeaf-4385-add9-132a8aa4a8d8",
   "metadata": {},
   "outputs": [],
   "source": [
    "tuple = (1, 2, 3)\n",
    "tuple[0] = 'a'  # This will raise error"
   ]
  },
  {
   "cell_type": "markdown",
   "id": "c31cadac-cd25-440e-a0bf-1d41f5611249",
   "metadata": {},
   "source": [
    "Characteristics of Immutable Objects:\n",
    "\n",
    "   * Cannot be modified in place\n",
    "\n",
    "   * Cannot be changed after creation\n",
    "\n",
    "   * Have a fixed size and shape\n",
    "\n",
    "   * Cannot be modified using indexing or slicing\n",
    "\n"
   ]
  },
  {
   "cell_type": "markdown",
   "id": "25ecace6-4bff-463c-8fd5-caa048ecaa97",
   "metadata": {},
   "source": [
    "Key Differences:\n",
    "\n",
    "Some key differences between mutable and immutable objects:\n",
    "\n",
    "a. **Modifiability**: Mutable objects can be modified after they are created, while immutable objects cannot be changed once they are created.\n",
    "\n",
    "b. **Equality**: Immutable objects can be compared for equality using the == operator, while mutable objects require a deep copy to compare their contents.\n",
    "\n",
    "c. **Hashing**: Immutable objects can be hashed using the hash() function, while mutable objects require a deep copy to hash their contents.\n",
    "\n",
    "d. **Pickling**: Immutable objects can be pickled (serialized) and unpickled without issues, while mutable objects may not be pickled correctly due to changes in their contents during the serialization process.\n",
    "\n",
    "e. **Memory Usage**: Immutable objects typically occupy less memory than mutable objects, since they do not need to store additional information about their contents.\n",
    "\n",
    "f. **Thread Safety**: Immutable objects are generally thread-safe, as they cannot be modified concurrently by multiple threads. Mutable objects, on the other hand, may require additional synchronization mechanisms to ensure thread safety.\n",
    "\n",
    "g. **Debugging**: Immutable objects can make it easier to debug code, as changes to their contents can be easily tracked and understood.\n",
    "\n",
    "h. **Code Readability**: Immutable objects can make code more readable, as they provide a clear and consistent interface for working with data.\n",
    "\n",
    "In summary, while both mutable and immutable objects have their own use cases and advantages, immutable objects are generally preferred in Python programming due to their thread safety, simplicity, and ease of debugging.\n"
   ]
  },
  {
   "cell_type": "markdown",
   "id": "570b1b4e-3bd4-48bb-b32f-330feeb1f20d",
   "metadata": {},
   "source": [
    "**4. Discuss the different types of operators in Python and provide examples of how they are used.**\n"
   ]
  },
  {
   "cell_type": "markdown",
   "id": "51c6df48-85a7-43f0-a828-4477b2562d60",
   "metadata": {},
   "source": [
    "Python has several types of operators, which are used to perform operations on variables and values. Here are the different types of operators in Python:\n",
    "I. Arithmetic Operators:\n",
    "\n",
    "Arithmetic operators are used to perform mathematical operations on numbers.\n",
    "\n",
    "a. Addition:**a + b** returns the sum of a and b.\n",
    "\n",
    "b. Subtraction: **a - b** returns the difference of a and b.\n",
    "\n",
    "c. Multiplication: **a * b** returns the product of a and b.\n",
    "\n",
    "d. Division: **a / b** returns the quotient of a and b.\n",
    "\n",
    "e. Floor Division: **a // b** returns quotient's integral form.\n",
    "\n",
    "f. Modulus: **a % b** returns the remainder of a divided by b.\n",
    "\n",
    "g. Exponentiation: **a ** b** returns the result of raising a to the power of b.\n"
   ]
  },
  {
   "cell_type": "code",
   "execution_count": 3,
   "id": "98379675-d774-4295-b49e-758db5e24b33",
   "metadata": {},
   "outputs": [
    {
     "name": "stdout",
     "output_type": "stream",
     "text": [
      "Addition = 8\n",
      "Subtraction = 2\n",
      "Multiplication =  15\n",
      "Division = 1.6666666666666667\n",
      "Floor Division = 1\n",
      "Modulus = 2\n",
      "Exponentiation = 125\n"
     ]
    }
   ],
   "source": [
    "a = 5\n",
    "b = 3\n",
    "print(\"Addition =\", a + b)  \n",
    "print(\"Subtraction =\", a - b)  \n",
    "print(\"Multiplication = \", a * b)  \n",
    "print(\"Division =\", a / b) \n",
    "print(\"Floor Division =\", a // b)\n",
    "print(\"Modulus =\", a % b)  \n",
    "print(\"Exponentiation =\" ,a ** b)  "
   ]
  },
  {
   "cell_type": "markdown",
   "id": "779e0508-f02a-4759-b1f8-7540c8c039d5",
   "metadata": {},
   "source": [
    "**II. Comparison Operators:**\n",
    "\n",
    "Comparison operators are used to compare values and determine whether they are equal, not equal, greater, less than, etc.\n",
    "\n",
    "**a. == (Equal):**   **a == b** returns True if a is equal to b, otherwise returns False.\n",
    "\n",
    "**b. != (Not equal):**   **a != b** returns True if a is not equal to b, otherwise returns False.\n",
    "\n",
    "**c. < (Less than):**   **a < b** returns True if a is less than b, otherwise returns False.\n",
    "\n",
    "**d. <= (Less than or equal to):**   **a <= b** returns True if a is less than or equal to b, otherwise returns False.\n",
    "\n",
    "**e. > (Greater than):**   **a > b** returns True if a is greater than b, otherwise returns False.\n",
    "\n",
    "**f. >= (Greater than or equal to):**   **a >= b** returns True if a is greater than or equal to b, otherwise returns False.\n"
   ]
  },
  {
   "cell_type": "code",
   "execution_count": 5,
   "id": "95be5835-ba91-43ba-b7f6-8d3094b17244",
   "metadata": {},
   "outputs": [
    {
     "name": "stdout",
     "output_type": "stream",
     "text": [
      "Equal = False\n",
      "Not equal = True\n",
      "Less than = False\n",
      "Less than or equal to = False\n",
      "Greater than = True\n",
      "Greater than or equal to = True\n"
     ]
    }
   ],
   "source": [
    "a = 5\n",
    "b = 3\n",
    "print(\"Equal =\", a == b) \n",
    "print(\"Not equal =\", a != b) \n",
    "print(\"Less than =\", a < b)  \n",
    "print(\"Less than or equal to =\", a <= b) \n",
    "print(\"Greater than =\", a > b)  \n",
    "print(\"Greater than or equal to =\", a >= b)"
   ]
  },
  {
   "cell_type": "markdown",
   "id": "2a422725-16fe-4c5c-ac42-106d8f226574",
   "metadata": {},
   "source": [
    " **III. Logical Operators:**\n",
    "\n",
    "Logical operators are used to combine boolean expressions and evaluate their truthiness.\n",
    "\n",
    "**a. and:** Returns the result of combining two boolean expressions using a logical **AND** operation.\n",
    "\n",
    "**b. or:** Returns the result of combining two boolean expressions using a logical **OR** operation.\n",
    "\n",
    "**c. not:** Returns the opposite of a boolean expression."
   ]
  },
  {
   "cell_type": "code",
   "execution_count": 7,
   "id": "407e7dd8-146c-4ce3-a89f-d2c332e84e97",
   "metadata": {},
   "outputs": [
    {
     "name": "stdout",
     "output_type": "stream",
     "text": [
      "And = False\n",
      "Or = True\n",
      "Not = False\n"
     ]
    }
   ],
   "source": [
    "x = True\n",
    "y = False\n",
    "print(\"And =\", x and y)\n",
    "print(\"Or =\", x or y) \n",
    "print(\"Not =\", not x)"
   ]
  },
  {
   "cell_type": "markdown",
   "id": "862ba12c-367d-4b3d-8ebd-f7e29d4bba17",
   "metadata": {},
   "source": [
    "**IV. Assignment Operators:**\n",
    "\n",
    "Assignment operators are used to assign a value to a variable.\n",
    "\n",
    "a. **/=** : Assigns the result of dividing two values to a variable.\n"
   ]
  },
  {
   "cell_type": "code",
   "execution_count": 8,
   "id": "055d89be-72ff-4772-8f6f-2dee61d878bf",
   "metadata": {},
   "outputs": [
    {
     "name": "stdout",
     "output_type": "stream",
     "text": [
      "1.6666666666666667\n"
     ]
    }
   ],
   "source": [
    "x = 5\n",
    "x /= 3\n",
    "print(x)"
   ]
  },
  {
   "cell_type": "markdown",
   "id": "735f1a5b-b7c7-4859-87a0-319859102681",
   "metadata": {},
   "source": [
    "b.  **%=**: Assigns the remainder of dividing two values to a variable.\n"
   ]
  },
  {
   "cell_type": "code",
   "execution_count": 9,
   "id": "6f25ced6-15ce-4b51-9aa0-0370ae68854f",
   "metadata": {},
   "outputs": [
    {
     "name": "stdout",
     "output_type": "stream",
     "text": [
      "1\n"
     ]
    }
   ],
   "source": [
    "x = 5\n",
    "x %= 2\n",
    "print(x)"
   ]
  },
  {
   "cell_type": "markdown",
   "id": "2c76ee20-89a2-44d1-ab1a-87654f33d495",
   "metadata": {},
   "source": [
    "c. *= : Assigns the product of two values to a variable."
   ]
  },
  {
   "cell_type": "code",
   "execution_count": 16,
   "id": "d67ed41d-59c7-4214-8116-c858280ab5aa",
   "metadata": {},
   "outputs": [
    {
     "name": "stdout",
     "output_type": "stream",
     "text": [
      "24\n"
     ]
    }
   ],
   "source": [
    "x=4\n",
    "x*=6\n",
    "print(x)"
   ]
  },
  {
   "cell_type": "markdown",
   "id": "3d0c2708-bdb0-48ef-a408-d9f34cfe9889",
   "metadata": {},
   "source": [
    "d. += : Assigns the sum of two values to a variable."
   ]
  },
  {
   "cell_type": "code",
   "execution_count": 17,
   "id": "7bf1ce60-f9e8-4a19-bb3c-fd9ccdb128fa",
   "metadata": {},
   "outputs": [
    {
     "name": "stdout",
     "output_type": "stream",
     "text": [
      "5\n"
     ]
    }
   ],
   "source": [
    "x=2\n",
    "x+=3\n",
    "print(x)"
   ]
  },
  {
   "cell_type": "markdown",
   "id": "c9cb69fe-6c32-430c-94d1-f76044fa6518",
   "metadata": {},
   "source": [
    "e. -= : Assigns the difference of two values to a variable."
   ]
  },
  {
   "cell_type": "code",
   "execution_count": 18,
   "id": "294e91bb-af65-479f-9a0c-b1311f835341",
   "metadata": {},
   "outputs": [
    {
     "name": "stdout",
     "output_type": "stream",
     "text": [
      "11\n"
     ]
    }
   ],
   "source": [
    "x=19\n",
    "x-=8\n",
    "print(x)"
   ]
  },
  {
   "cell_type": "markdown",
   "id": "91a1b86f-38ce-4b4a-a792-17bb7d4dd5d4",
   "metadata": {},
   "source": [
    "**V. Bitwise Operators:**\n",
    "\n",
    "Bitwise operators are used to perform operations on binary numbers.\n",
    "\n",
    "a. **&** (Bitwise **AND**): Performs a bitwise **AND** operation on two binary numbers.\n",
    "\n",
    "b. **|** (Bitwise **OR**): Performs a bitwise **OR** operation on two binary numbers.\n",
    "\n",
    "c. **^** (Bitwise **XOR**): Performs a bitwise **XOR** operation on two binary numbers.\n",
    "\n",
    "d. **~** (Bitwise **NOT**): Inverts all the bits in a binary number.\n",
    "\n",
    "e. **<<** (Left Shift): Shifts the bits of a binary number to the left.\n",
    "\n",
    "f. **>>** (Right Shift): Shifts the bits of a binary number to the right.\n"
   ]
  },
  {
   "cell_type": "code",
   "execution_count": 20,
   "id": "71a40db6-a7d2-499a-b12e-7a7e76c4cfe8",
   "metadata": {},
   "outputs": [
    {
     "name": "stdout",
     "output_type": "stream",
     "text": [
      "AND = 0\n",
      "OR = 10\n",
      "XOR = 10\n",
      "NOT = -9\n",
      "Right Shift = 16\n",
      "Left Shift = 4\n"
     ]
    }
   ],
   "source": [
    "x=8\n",
    "y=2\n",
    "print(\"AND =\", x & y)  \n",
    "print(\"OR =\", x | y)  \n",
    "print(\"XOR =\", x ^ y)  \n",
    "print(\"NOT =\", ~x)  \n",
    "print(\"Right Shift =\", x << 1)  \n",
    "print(\"Left Shift =\", x >> 1)  "
   ]
  },
  {
   "cell_type": "markdown",
   "id": "2804d51e-8a18-4c60-a637-4d050bde62ac",
   "metadata": {},
   "source": [
    "**VI. Membership Operators:**\n",
    "\n",
    "Membership operators are used to check if a value is present in a sequence or container.\n",
    "\n",
    "a. **in**: Returns the result of checking if a value is present in a sequence or container.\n",
    "\n",
    "b. **not in**: Returns the opposite of checking if a value is present in a sequence or container."
   ]
  },
  {
   "cell_type": "code",
   "execution_count": 23,
   "id": "07509bba-a56f-49f9-9e57-91819f5541ba",
   "metadata": {},
   "outputs": [
    {
     "name": "stdout",
     "output_type": "stream",
     "text": [
      "True\n",
      "True\n"
     ]
    }
   ],
   "source": [
    "list = [0,1,2,3,4]\n",
    "print(2 in list)  \n",
    "print(5 not in list)"
   ]
  },
  {
   "cell_type": "markdown",
   "id": "7a6b3f97-14bf-432b-94ab-dd9ef91ecff3",
   "metadata": {},
   "source": [
    "**VII.Identity Operators:**\n",
    "\n",
    "Identity operators are used to check if two values are identical or not.\n",
    "\n",
    "a. **is**: Returns the result of checking if two values are identical.\n",
    "\n",
    "b. **is not**: Returns the opposite of checking if two values are identical.\n"
   ]
  },
  {
   "cell_type": "code",
   "execution_count": 24,
   "id": "3fb3831e-37ae-480d-8305-6032dbfb39d6",
   "metadata": {},
   "outputs": [
    {
     "name": "stdout",
     "output_type": "stream",
     "text": [
      "False\n",
      "True\n"
     ]
    }
   ],
   "source": [
    "x = [1, 2, 3]\n",
    "y = [1, 2, 3]\n",
    "print(x is y)  \n",
    "print(x is not y)  "
   ]
  },
  {
   "cell_type": "markdown",
   "id": "196835fc-3521-45fe-ba57-2602847fcaf1",
   "metadata": {},
   "source": [
    "**5. Explain the concept of type casting in Python with examples.**"
   ]
  },
  {
   "cell_type": "markdown",
   "id": "4de6eb00-fab0-4822-b81f-f6f10a5bf9d2",
   "metadata": {},
   "source": [
    "Type casting in Python is the process of converting a variable data type from one data type to another. This can be useful when we need to work with different data types, such as when we need to convert a string to an integer.\n",
    "I. Implicit Type Casting\n",
    "\n",
    "Python automatically performs implicit type casting when it encounters an operation that requires a specific data type.\n"
   ]
  },
  {
   "cell_type": "code",
   "execution_count": 3,
   "id": "00df859c-0623-4a7a-b4ee-4bc8b2adc9f1",
   "metadata": {},
   "outputs": [
    {
     "name": "stdout",
     "output_type": "stream",
     "text": [
      "8.5\n"
     ]
    }
   ],
   "source": [
    "a = 3  # integer\n",
    "b = 5.5  # float\n",
    "\n",
    "result = a + b  # implicit type casting\n",
    "print(result)  "
   ]
  },
  {
   "cell_type": "markdown",
   "id": "cf22e6fd-8451-4997-a5b2-5358203af615",
   "metadata": {},
   "source": [
    "In this example, Python automatically converts the integer \"a\" to a float to perform the addition operation with the float \"b\"."
   ]
  },
  {
   "cell_type": "markdown",
   "id": "5444b229-abd6-4e60-aa9f-40bf1862eebd",
   "metadata": {},
   "source": [
    "**II. Explicit Type Casting**\n",
    "\n",
    "It can also be performed in explicit type casting using built-in functions such as**int()**, **float()**, **str()**, etc."
   ]
  },
  {
   "cell_type": "code",
   "execution_count": 8,
   "id": "fba5e8bb-8e02-47b2-9026-c9b024d97286",
   "metadata": {},
   "outputs": [
    {
     "name": "stdout",
     "output_type": "stream",
     "text": [
      "4\n",
      "12345\n"
     ]
    }
   ],
   "source": [
    "a = 4.6  # float\n",
    "b = int(a)  # explicit type casting\n",
    "print(b) \n",
    "\n",
    "c = \"12345\"  # string\n",
    "d = int(c)  # explicit type casting\n",
    "print(d) "
   ]
  },
  {
   "cell_type": "markdown",
   "id": "792c9734-d8b8-4f19-bf8c-834c90b0ec08",
   "metadata": {},
   "source": [
    "In this example, the **int()** function is used to explicitly convert the float \"**a**\" to an integer and the string \"**c**\" to an integer."
   ]
  },
  {
   "cell_type": "markdown",
   "id": "f2521bbc-3eed-4d22-87ad-8ec672b67180",
   "metadata": {},
   "source": [
    "Type Casting Functions:\n",
    "\n",
    "a. int(): converts a value to integer\n",
    "\n",
    "b. float(): converts a value to float\n",
    "\n",
    "c. str(): converts a value to string\n",
    "\n",
    "d. bool(): converts a value to boolean(True or False)\n",
    "\n",
    "e. complex(): converts a value to complex number\n",
    "\n",
    "f. list(): converts a value to list\n",
    "\n",
    "g. tuple(): converts a value to tuple\n",
    "\n",
    "h. dict(): converts a value to dictionary\n"
   ]
  },
  {
   "cell_type": "markdown",
   "id": "3e2f2653-3be0-4847-a837-37b71de3fa8f",
   "metadata": {},
   "source": [
    "**Examples of Type Casting:**\n"
   ]
  },
  {
   "cell_type": "markdown",
   "id": "1091aa1f-77bb-44fc-af71-9f9879f87739",
   "metadata": {},
   "source": [
    " **i. String to an integer:**\n",
    "\n",
    "Converting string to integer datatype in Python with **int()**"
   ]
  },
  {
   "cell_type": "code",
   "execution_count": 10,
   "id": "45f1e205-0125-4a82-b5e6-224cc34f09c1",
   "metadata": {},
   "outputs": [
    {
     "name": "stdout",
     "output_type": "stream",
     "text": [
      "1452\n",
      "<class 'int'>\n"
     ]
    }
   ],
   "source": [
    "s = \"1452\"\n",
    "i = int(s)\n",
    "print(i)\n",
    "print(type(i))"
   ]
  },
  {
   "cell_type": "code",
   "execution_count": 11,
   "id": "c8870a22-566a-4962-8194-6eff4b3d4d44",
   "metadata": {},
   "outputs": [
    {
     "name": "stdout",
     "output_type": "stream",
     "text": [
      "True\n",
      "<class 'bool'>\n"
     ]
    }
   ],
   "source": [
    "s = \"True\"\n",
    "b = bool(s)\n",
    "print(b)\n",
    "print(type(b))"
   ]
  },
  {
   "cell_type": "markdown",
   "id": "2b0ae602-63be-4205-9649-ed87faef8945",
   "metadata": {},
   "source": [
    " **iii. Boolean to a string**\n",
    "Converting boolean to string datatype in Python with **str()** function."
   ]
  },
  {
   "cell_type": "code",
   "execution_count": 15,
   "id": "3a113b2d-0dff-4331-899a-6979ed3e9182",
   "metadata": {},
   "outputs": [
    {
     "name": "stdout",
     "output_type": "stream",
     "text": [
      "True\n",
      "<class 'str'>\n"
     ]
    }
   ],
   "source": [
    "b = True\n",
    "s = str(b)\n",
    "print(s)\n",
    "print(type(s))"
   ]
  },
  {
   "cell_type": "markdown",
   "id": "550c1b6e-ab61-4eee-a6f0-4ee1d4b934f9",
   "metadata": {},
   "source": [
    "**iv. Integer to a string:**\n",
    "Converting integer to string datatype in Python with **str()** function."
   ]
  },
  {
   "cell_type": "code",
   "execution_count": 28,
   "id": "77be0c6d-565a-4e9c-bed7-fbaa1ab01bae",
   "metadata": {},
   "outputs": [
    {
     "name": "stdout",
     "output_type": "stream",
     "text": [
      "123\n",
      "<class 'str'>\n"
     ]
    }
   ],
   "source": [
    "i = 123\n",
    "s = str(i)\n",
    "print(s)\n",
    "print(type(s))"
   ]
  },
  {
   "cell_type": "markdown",
   "id": "662d7dd3-e9fa-4a29-b203-63dbfdc1979d",
   "metadata": {},
   "source": [
    "**vi. List to Tuple:**\n",
    "Converting list to tuple datatype in Python with **tuple()** function."
   ]
  },
  {
   "cell_type": "code",
   "execution_count": 14,
   "id": "acdeca73-18e1-4bf1-a8af-772d90a421d5",
   "metadata": {},
   "outputs": [
    {
     "name": "stdout",
     "output_type": "stream",
     "text": [
      "(1, 2, 3)\n",
      "<class 'tuple'>\n"
     ]
    }
   ],
   "source": [
    "list = [1, 2, 3]\n",
    "tuple = tuple(list)\n",
    "print(tuple)\n",
    "print(type(tuple))"
   ]
  },
  {
   "cell_type": "markdown",
   "id": "1ac102ff-7d10-484d-afb8-ccb9d2efa495",
   "metadata": {},
   "source": [
    "**viii. Dictionary to String:**\n",
    " Converting dictionary to string datatype in Python with **str()** function."
   ]
  },
  {
   "cell_type": "code",
   "execution_count": 16,
   "id": "979b6831-9b43-4847-a2c8-699739d39f62",
   "metadata": {},
   "outputs": [
    {
     "name": "stdout",
     "output_type": "stream",
     "text": [
      "{'a': 1, 'b': 2}\n",
      "<class 'str'>\n"
     ]
    }
   ],
   "source": [
    "x = {\"a\": 1, \"b\": 2}\n",
    "y = str(x)\n",
    "print(y)\n",
    "print(type(y))"
   ]
  },
  {
   "cell_type": "markdown",
   "id": "92684cb7-c533-42d5-8e89-2255d5b2cd49",
   "metadata": {},
   "source": [
    "**Q6. How do conditional statements work in Python? Illustrate with examples.**"
   ]
  },
  {
   "cell_type": "markdown",
   "id": "b6513d69-a9d3-45cc-8932-895432efe456",
   "metadata": {},
   "source": [
    "In Python, conditional statements also known as control flow statements, are used to execute different blocks of code based on certain conditions. They allows to make decisions and take different actions depending on the outcome of a condition. There are several types of conditional statements in Python:\n",
    "\n",
    "**a. If statement:** This is the most basic type of conditional statement. It checks if a condition is true or false, and executes a block of code if the condition is true."
   ]
  },
  {
   "cell_type": "code",
   "execution_count": null,
   "id": "0ba40ad9-09d3-4c3f-8563-8985dc9cefeb",
   "metadata": {},
   "outputs": [],
   "source": [
    "x = 5\n",
    "if x > 10:\n",
    "    print(\"x is greater than 10\")"
   ]
  },
  {
   "cell_type": "markdown",
   "id": "3b82fe1b-b7ae-4770-8210-3cf36d6c7273",
   "metadata": {},
   "source": [
    "In this example, the code inside the **if** statement will not be executed because the condition **x > 10** is false."
   ]
  },
  {
   "cell_type": "markdown",
   "id": "e5e33326-2825-48f1-aa68-5271c1fac400",
   "metadata": {},
   "source": [
    "**b. If-else statement:** This type of conditional statement allows to execute a different block of code if the condition is false."
   ]
  },
  {
   "cell_type": "code",
   "execution_count": 18,
   "id": "1d9b96f0-1421-4900-9764-64069ded53c5",
   "metadata": {},
   "outputs": [
    {
     "name": "stdout",
     "output_type": "stream",
     "text": [
      "x is less than or equal to 10\n"
     ]
    }
   ],
   "source": [
    "x = 5\n",
    "if x > 10:\n",
    "    print(\"x is greater than 10\")\n",
    "else:\n",
    "    print(\"x is less than or equal to 10\")"
   ]
  },
  {
   "cell_type": "markdown",
   "id": "7f7dcdcd-e5b3-42a6-8289-82b1ed4b8118",
   "metadata": {},
   "source": [
    "In this example, the code inside the else block will be executed because the condition x > 10 is false"
   ]
  },
  {
   "cell_type": "markdown",
   "id": "732eca2a-9375-4640-86ef-0c9d80ec3378",
   "metadata": {},
   "source": [
    "**c. Nested if statements:** We can also use nested if statements to check multiple conditions."
   ]
  },
  {
   "cell_type": "code",
   "execution_count": 21,
   "id": "fcf3c595-0d41-43f3-a707-8a1d4cc36262",
   "metadata": {},
   "outputs": [],
   "source": [
    "x = 5\n",
    "y = 3\n",
    "if x > 10:\n",
    "    if y > 5:\n",
    "        print(\"x is greater than 10 and y is greater than 5\")"
   ]
  },
  {
   "cell_type": "markdown",
   "id": "54ce825f-b36f-4f88-9c8d-02f31372c5b0",
   "metadata": {},
   "source": [
    "In this example, the code inside the nested **if** statement will not be executed because the condition **x > 10** is false."
   ]
  },
  {
   "cell_type": "markdown",
   "id": "fd6d7a1a-f6da-4a22-95d3-222afee16012",
   "metadata": {},
   "source": [
    "d. **Conditional expressions:** In Python, we can also use conditional expressions (also known as ternary operators) to simplify simple conditional statements.\n"
   ]
  },
  {
   "cell_type": "code",
   "execution_count": 22,
   "id": "d6e99318-dff4-4e57-bd7b-9ac7be829118",
   "metadata": {},
   "outputs": [
    {
     "name": "stdout",
     "output_type": "stream",
     "text": [
      "x is less than or equal to 10\n"
     ]
    }
   ],
   "source": [
    "x = 5\n",
    "result = \"x is greater than 10\" if x > 10 else \"x is less than or equal to 10\"\n",
    "print(result)"
   ]
  },
  {
   "cell_type": "markdown",
   "id": "4c263eae-d521-48ce-aff6-5aa60be35cb4",
   "metadata": {},
   "source": [
    "In this example, the code will print \"x is less than or equal to 10\" because the condition x > 10 is false.\n",
    "\n",
    "These are the types of conditional statements and their working in Python. These conditional statements are used to make complex logic and decision making flows in the code.\n"
   ]
  },
  {
   "cell_type": "markdown",
   "id": "5fa61646-cddc-4ea2-9ba2-5c582a587d12",
   "metadata": {},
   "source": [
    "**Q7.Describe the different types of loops in Python and their use cases with examples.**"
   ]
  },
  {
   "cell_type": "markdown",
   "id": "fa458090-e63e-4441-88ee-dc45ae104728",
   "metadata": {},
   "source": [
    "In Python, there are several types of loops that can be used to execute a block of code repeatedly. Here are the different types of loops and their use cases:\n",
    "\n",
    "a. **For Loop**: A for loop is used to iterate over a sequence (such as a **list**, **tuple** or **string**) or any other iterable object. It is used when we know the number of iterations beforehand.\n"
   ]
  },
  {
   "cell_type": "code",
   "execution_count": null,
   "id": "fd7f4248-e5e9-42f2-b7bb-7f861b059227",
   "metadata": {},
   "outputs": [
    {
     "name": "stdout",
     "output_type": "stream",
     "text": [
      "one\n",
      "two\n",
      "three\n",
      "four\n"
     ]
    }
   ],
   "source": [
    "trans = ['one', 'two', 'three','four']\n",
    "for trans in trans:\n",
    "    print(trans)"
   ]
  },
  {
   "cell_type": "markdown",
   "id": "29cdba03-d8b0-40ab-a5c1-38dfbe786e31",
   "metadata": {},
   "source": [
    "**b. While Loop:** A while loop is used to iterate over a block of code as long as a certain condition is true. It is used when we don't know how many iterations we will need beforehand."
   ]
  },
  {
   "cell_type": "code",
   "execution_count": 25,
   "id": "be387908-08e0-4bc9-8b27-f9484e4ae072",
   "metadata": {},
   "outputs": [
    {
     "name": "stdout",
     "output_type": "stream",
     "text": [
      "0\n",
      "1\n",
      "2\n",
      "3\n",
      "4\n"
     ]
    }
   ],
   "source": [
    "i = 0\n",
    "while i < 5:\n",
    "    print(i)\n",
    "    i += 1"
   ]
  },
  {
   "cell_type": "markdown",
   "id": "81be2d7e-458d-4211-a247-98b1cb9c733f",
   "metadata": {},
   "source": [
    "**c. Nested Loops:** A nested loops are used to execute a block of code inside another loop. Nested loop is used when we need to perform multiple iterations over multiple sequences."
   ]
  },
  {
   "cell_type": "code",
   "execution_count": 27,
   "id": "635f9b44-c40d-4c84-9954-789298e8a81c",
   "metadata": {},
   "outputs": [
    {
     "name": "stdout",
     "output_type": "stream",
     "text": [
      "healthy apple\n",
      "healthy chocolate\n",
      "healthy mango\n",
      "tasty apple\n",
      "tasty chocolate\n",
      "tasty mango\n"
     ]
    }
   ],
   "source": [
    "adj = [\"healthy\", \"tasty\"]\n",
    "fruits = [\"apple\", \"chocolate\", \"mango\"]\n",
    "\n",
    "for x in adj:\n",
    "  for y in fruits:\n",
    "    print(x, y)"
   ]
  }
 ],
 "metadata": {
  "kernelspec": {
   "display_name": "Python 3 (ipykernel)",
   "language": "python",
   "name": "python3"
  },
  "language_info": {
   "codemirror_mode": {
    "name": "ipython",
    "version": 3
   },
   "file_extension": ".py",
   "mimetype": "text/x-python",
   "name": "python",
   "nbconvert_exporter": "python",
   "pygments_lexer": "ipython3",
   "version": "3.10.8"
  }
 },
 "nbformat": 4,
 "nbformat_minor": 5
}
